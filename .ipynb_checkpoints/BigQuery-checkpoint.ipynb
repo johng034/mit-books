{
 "cells": [
  {
   "cell_type": "markdown",
   "metadata": {},
   "source": [
    "# Save Data to BigQuery\n",
    "We want to store our data with a platform like GCP.\n",
    "\n",
    "For this project, we will store our dataset in Google BigQuery."
   ]
  },
  {
   "cell_type": "code",
   "execution_count": 1,
   "metadata": {},
   "outputs": [],
   "source": [
    "# Import modules and packages\n",
    "import pandas as pd\n",
    "from pandas.io import gbq"
   ]
  },
  {
   "cell_type": "code",
   "execution_count": 2,
   "metadata": {},
   "outputs": [
    {
     "data": {
      "text/html": [
       "<div>\n",
       "<style scoped>\n",
       "    .dataframe tbody tr th:only-of-type {\n",
       "        vertical-align: middle;\n",
       "    }\n",
       "\n",
       "    .dataframe tbody tr th {\n",
       "        vertical-align: top;\n",
       "    }\n",
       "\n",
       "    .dataframe thead th {\n",
       "        text-align: right;\n",
       "    }\n",
       "</style>\n",
       "<table border=\"1\" class=\"dataframe\">\n",
       "  <thead>\n",
       "    <tr style=\"text-align: right;\">\n",
       "      <th></th>\n",
       "      <th>title</th>\n",
       "      <th>link</th>\n",
       "      <th>authors</th>\n",
       "      <th>authors_webpage</th>\n",
       "      <th>publish_date</th>\n",
       "      <th>book_length</th>\n",
       "      <th>price</th>\n",
       "      <th>purchase_links</th>\n",
       "    </tr>\n",
       "  </thead>\n",
       "  <tbody>\n",
       "    <tr>\n",
       "      <th>0</th>\n",
       "      <td>The Future</td>\n",
       "      <td>https://mitpress.mit.edu/9780262534819/the-future</td>\n",
       "      <td>Nick Montfort</td>\n",
       "      <td>https://mitpress.mit.edu/author/nick-montfort-...</td>\n",
       "      <td>December 8, 2017</td>\n",
       "      <td>192</td>\n",
       "      <td>$15.95</td>\n",
       "      <td>https://www.penguinrandomhouse.com/search/site...</td>\n",
       "    </tr>\n",
       "    <tr>\n",
       "      <th>1</th>\n",
       "      <td>Critical Thinking</td>\n",
       "      <td>https://mitpress.mit.edu/9780262538282/critica...</td>\n",
       "      <td>Jonathan Haber</td>\n",
       "      <td>https://mitpress.mit.edu/author/jonathan-haber...</td>\n",
       "      <td>April 7, 2020</td>\n",
       "      <td>232</td>\n",
       "      <td>$15.95</td>\n",
       "      <td>https://www.penguinrandomhouse.com/search/site...</td>\n",
       "    </tr>\n",
       "    <tr>\n",
       "      <th>2</th>\n",
       "      <td>Hunting</td>\n",
       "      <td>https://mitpress.mit.edu/9780262543293/hunting</td>\n",
       "      <td>Jan E. Dizard &amp; Mary Zeiss Stange</td>\n",
       "      <td>https://mitpress.mit.edu/author/jan-e-dizard-3...</td>\n",
       "      <td>October 4, 2022</td>\n",
       "      <td>248</td>\n",
       "      <td>$16.95</td>\n",
       "      <td>https://www.penguinrandomhouse.com/search/site...</td>\n",
       "    </tr>\n",
       "    <tr>\n",
       "      <th>3</th>\n",
       "      <td>Content</td>\n",
       "      <td>https://mitpress.mit.edu/9780262543286/content</td>\n",
       "      <td>Kate Eichhorn</td>\n",
       "      <td>https://mitpress.mit.edu/author/kate-eichhorn-...</td>\n",
       "      <td>May 10, 2022</td>\n",
       "      <td>192</td>\n",
       "      <td>$15.95</td>\n",
       "      <td>https://www.penguinrandomhouse.com/search/site...</td>\n",
       "    </tr>\n",
       "    <tr>\n",
       "      <th>4</th>\n",
       "      <td>Machine Learning, revised and updated edition</td>\n",
       "      <td>https://mitpress.mit.edu/9780262542524/machine...</td>\n",
       "      <td>Ethem Alpaydın</td>\n",
       "      <td>https://mitpress.mit.edu/author/ethem-alpaydn-...</td>\n",
       "      <td>August 17, 2021</td>\n",
       "      <td>280</td>\n",
       "      <td>$15.95</td>\n",
       "      <td>https://www.penguinrandomhouse.com/search/site...</td>\n",
       "    </tr>\n",
       "  </tbody>\n",
       "</table>\n",
       "</div>"
      ],
      "text/plain": [
       "                                           title  \\\n",
       "0                                     The Future   \n",
       "1                              Critical Thinking   \n",
       "2                                        Hunting   \n",
       "3                                        Content   \n",
       "4  Machine Learning, revised and updated edition   \n",
       "\n",
       "                                                link  \\\n",
       "0  https://mitpress.mit.edu/9780262534819/the-future   \n",
       "1  https://mitpress.mit.edu/9780262538282/critica...   \n",
       "2     https://mitpress.mit.edu/9780262543293/hunting   \n",
       "3     https://mitpress.mit.edu/9780262543286/content   \n",
       "4  https://mitpress.mit.edu/9780262542524/machine...   \n",
       "\n",
       "                             authors  \\\n",
       "0                      Nick Montfort   \n",
       "1                     Jonathan Haber   \n",
       "2  Jan E. Dizard & Mary Zeiss Stange   \n",
       "3                      Kate Eichhorn   \n",
       "4                     Ethem Alpaydın   \n",
       "\n",
       "                                     authors_webpage      publish_date  \\\n",
       "0  https://mitpress.mit.edu/author/nick-montfort-...  December 8, 2017   \n",
       "1  https://mitpress.mit.edu/author/jonathan-haber...     April 7, 2020   \n",
       "2  https://mitpress.mit.edu/author/jan-e-dizard-3...   October 4, 2022   \n",
       "3  https://mitpress.mit.edu/author/kate-eichhorn-...      May 10, 2022   \n",
       "4  https://mitpress.mit.edu/author/ethem-alpaydn-...   August 17, 2021   \n",
       "\n",
       "   book_length   price                                     purchase_links  \n",
       "0          192  $15.95  https://www.penguinrandomhouse.com/search/site...  \n",
       "1          232  $15.95  https://www.penguinrandomhouse.com/search/site...  \n",
       "2          248  $16.95  https://www.penguinrandomhouse.com/search/site...  \n",
       "3          192  $15.95  https://www.penguinrandomhouse.com/search/site...  \n",
       "4          280  $15.95  https://www.penguinrandomhouse.com/search/site...  "
      ]
     },
     "execution_count": 2,
     "metadata": {},
     "output_type": "execute_result"
    }
   ],
   "source": [
    "# Read the dataset that we will save to BigQuery\n",
    "df = pd.read_csv('./saved_data/data.csv')\n",
    "\n",
    "df.head()"
   ]
  },
  {
   "cell_type": "markdown",
   "metadata": {},
   "source": [
    "We will save the DataFrame to BigQuery with the following cell.\n",
    "\n",
    "The cell is commented out for security purposes, but the data was saved to BigQuery. A screenshot of the data in BigQuery is attached at the bottom."
   ]
  },
  {
   "cell_type": "code",
   "execution_count": 4,
   "metadata": {},
   "outputs": [],
   "source": [
    "# Connect to Google Cloud API and upload dataframe\n",
    "# df.to_gbq(destination_table='mit_book_collection.book_data', project_id='mit-books-1111', if_exists='replace')"
   ]
  },
  {
   "cell_type": "markdown",
   "metadata": {},
   "source": [
    "Here we can see that the data was saved to BigQuery\n",
    "\n",
    "![BigQuery](./Include/bigquery.PNG)"
   ]
  }
 ],
 "metadata": {
  "kernelspec": {
   "display_name": "Python 3",
   "language": "python",
   "name": "python3"
  },
  "language_info": {
   "codemirror_mode": {
    "name": "ipython",
    "version": 3
   },
   "file_extension": ".py",
   "mimetype": "text/x-python",
   "name": "python",
   "nbconvert_exporter": "python",
   "pygments_lexer": "ipython3",
   "version": "3.7.0"
  }
 },
 "nbformat": 4,
 "nbformat_minor": 2
}
