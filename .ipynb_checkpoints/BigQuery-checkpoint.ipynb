{
 "cells": [
  {
   "cell_type": "markdown",
   "metadata": {},
   "source": [
    "# Save Data to BigQuery\n",
    "We want to store our data with a platform like GCP.\n",
    "\n",
    "For this project, we will store our dataset in Google BigQuery."
   ]
  },
  {
   "cell_type": "code",
   "execution_count": 1,
   "metadata": {},
   "outputs": [],
   "source": [
    "# Import modules and packages\n",
    "import pandas as pd\n",
    "from pandas.io import gbq"
   ]
  },
  {
   "cell_type": "code",
   "execution_count": 2,
   "metadata": {},
   "outputs": [
    {
     "data": {
      "text/html": [
       "<div>\n",
       "<style scoped>\n",
       "    .dataframe tbody tr th:only-of-type {\n",
       "        vertical-align: middle;\n",
       "    }\n",
       "\n",
       "    .dataframe tbody tr th {\n",
       "        vertical-align: top;\n",
       "    }\n",
       "\n",
       "    .dataframe thead th {\n",
       "        text-align: right;\n",
       "    }\n",
       "</style>\n",
       "<table border=\"1\" class=\"dataframe\">\n",
       "  <thead>\n",
       "    <tr style=\"text-align: right;\">\n",
       "      <th></th>\n",
       "      <th>title</th>\n",
       "      <th>authors</th>\n",
       "      <th>link</th>\n",
       "      <th>publish_date</th>\n",
       "      <th>price</th>\n",
       "    </tr>\n",
       "  </thead>\n",
       "  <tbody>\n",
       "    <tr>\n",
       "      <th>0</th>\n",
       "      <td>Fertility Technology</td>\n",
       "      <td>Donna J. Drucker</td>\n",
       "      <td>https://mitpress.mit.edu/books/fertility-techn...</td>\n",
       "      <td>2023-02-14</td>\n",
       "      <td>$16.95</td>\n",
       "    </tr>\n",
       "    <tr>\n",
       "      <th>1</th>\n",
       "      <td>Espionage</td>\n",
       "      <td>Kristie Macrakis</td>\n",
       "      <td>https://mitpress.mit.edu/books/espionage</td>\n",
       "      <td>2023-02-14</td>\n",
       "      <td>$16.95</td>\n",
       "    </tr>\n",
       "    <tr>\n",
       "      <th>2</th>\n",
       "      <td>Causal Inference</td>\n",
       "      <td>Paul R. Rosenbaum</td>\n",
       "      <td>https://mitpress.mit.edu/books/causal-inference</td>\n",
       "      <td>2023-02-14</td>\n",
       "      <td>$16.95</td>\n",
       "    </tr>\n",
       "    <tr>\n",
       "      <th>3</th>\n",
       "      <td>Pragmatism</td>\n",
       "      <td>John R. Shook</td>\n",
       "      <td>https://mitpress.mit.edu/books/pragmatism</td>\n",
       "      <td>2023-02-07</td>\n",
       "      <td>$16.95</td>\n",
       "    </tr>\n",
       "    <tr>\n",
       "      <th>4</th>\n",
       "      <td>Happiness</td>\n",
       "      <td>Tim Lomas</td>\n",
       "      <td>https://mitpress.mit.edu/books/happiness-1</td>\n",
       "      <td>2023-01-03</td>\n",
       "      <td>$16.95</td>\n",
       "    </tr>\n",
       "  </tbody>\n",
       "</table>\n",
       "</div>"
      ],
      "text/plain": [
       "                  title            authors  \\\n",
       "0  Fertility Technology   Donna J. Drucker   \n",
       "1             Espionage   Kristie Macrakis   \n",
       "2      Causal Inference  Paul R. Rosenbaum   \n",
       "3            Pragmatism      John R. Shook   \n",
       "4             Happiness          Tim Lomas   \n",
       "\n",
       "                                                link publish_date   price  \n",
       "0  https://mitpress.mit.edu/books/fertility-techn...   2023-02-14  $16.95  \n",
       "1           https://mitpress.mit.edu/books/espionage   2023-02-14  $16.95  \n",
       "2    https://mitpress.mit.edu/books/causal-inference   2023-02-14  $16.95  \n",
       "3          https://mitpress.mit.edu/books/pragmatism   2023-02-07  $16.95  \n",
       "4         https://mitpress.mit.edu/books/happiness-1   2023-01-03  $16.95  "
      ]
     },
     "execution_count": 2,
     "metadata": {},
     "output_type": "execute_result"
    }
   ],
   "source": [
    "# Read the dataset that we will save to BigQuery\n",
    "df = pd.read_csv('./saved_data/data.csv')\n",
    "\n",
    "df.head()"
   ]
  },
  {
   "cell_type": "markdown",
   "metadata": {},
   "source": [
    "We will save the DataFrame to BigQuery with the following cell.\n",
    "\n",
    "The cell is commented out for security purposes, but the data was saved to BigQuery. A screenshot of the data in BigQuery is attached at the bottom."
   ]
  },
  {
   "cell_type": "code",
   "execution_count": 3,
   "metadata": {},
   "outputs": [],
   "source": [
    "# Connect to Google Cloud API and upload dataframe\n",
    "# df.to_gbq(destination_table='mit_book_collection.book_data', project_id='mit-books-1111', if_exists='replace')"
   ]
  },
  {
   "cell_type": "markdown",
   "metadata": {},
   "source": [
    "Here we can see that the data was saved to BigQuery\n",
    "\n",
    "![BigQuery](./Include/bigquery.PNG)"
   ]
  }
 ],
 "metadata": {
  "kernelspec": {
   "display_name": "Python 3",
   "language": "python",
   "name": "python3"
  },
  "language_info": {
   "codemirror_mode": {
    "name": "ipython",
    "version": 3
   },
   "file_extension": ".py",
   "mimetype": "text/x-python",
   "name": "python",
   "nbconvert_exporter": "python",
   "pygments_lexer": "ipython3",
   "version": "3.7.0"
  }
 },
 "nbformat": 4,
 "nbformat_minor": 2
}
