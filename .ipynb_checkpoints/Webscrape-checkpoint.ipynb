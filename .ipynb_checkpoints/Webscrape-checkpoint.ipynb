{
 "cells": [
  {
   "cell_type": "code",
   "execution_count": 1,
   "metadata": {},
   "outputs": [],
   "source": [
    "import pandas as pd\n",
    "from bs4 import BeautifulSoup\n",
    "import requests\n",
    "import numpy as np\n",
    "import os"
   ]
  },
  {
   "cell_type": "markdown",
   "metadata": {},
   "source": [
    "# Page Links\n",
    "Since there are multiple pages, we will get the links for each one"
   ]
  },
  {
   "cell_type": "code",
   "execution_count": 2,
   "metadata": {},
   "outputs": [],
   "source": [
    "headers = ({'User-Agent':\n",
    "           'Mozilla/5.0 (X11; Linux x86_64) AppleWebKit/537.36 (KHTML, like Gecko)Chrome/44.0.2403.157 Safari/537.36',\n",
    "                           'Accept-Language': 'en-US, en;q=0.5'})"
   ]
  },
  {
   "cell_type": "code",
   "execution_count": 3,
   "metadata": {},
   "outputs": [],
   "source": [
    "url = 'https://mitpress.mit.edu/books/series/mit-press-essential-knowledge-series'\n",
    "\n",
    "page = requests.get(url, headers=headers)\n",
    "soup = BeautifulSoup(page.content, 'html.parser')\n",
    "\n",
    "page_num = []\n",
    "pages = []\n",
    "\n",
    "for page in soup.findAll(class_ = 'pager__item'):\n",
    "    page_num.append(int(page.a.get('href').split('=')[1]))\n",
    "\n",
    "\n",
    "num_of_pages = max(page_num)\n",
    "\n",
    "for page in range(num_of_pages+1):\n",
    "    pages.append(url + '?page=' + str(page))"
   ]
  },
  {
   "cell_type": "code",
   "execution_count": 9,
   "metadata": {},
   "outputs": [
    {
     "data": {
      "text/plain": [
       "['https://mitpress.mit.edu/books/series/mit-press-essential-knowledge-series?page=0',\n",
       " 'https://mitpress.mit.edu/books/series/mit-press-essential-knowledge-series?page=1',\n",
       " 'https://mitpress.mit.edu/books/series/mit-press-essential-knowledge-series?page=2',\n",
       " 'https://mitpress.mit.edu/books/series/mit-press-essential-knowledge-series?page=3']"
      ]
     },
     "execution_count": 9,
     "metadata": {},
     "output_type": "execute_result"
    }
   ],
   "source": [
    "# The list of the links we're going to scrape data from\n",
    "pages"
   ]
  },
  {
   "cell_type": "markdown",
   "metadata": {},
   "source": [
    "# Information to be Collected\n",
    "We are going to collect the following data from each book:\n",
    "- Title\n",
    "- Author\n",
    "- Link to book\n",
    "- Publish Date\n",
    "- Price"
   ]
  },
  {
   "cell_type": "code",
   "execution_count": 5,
   "metadata": {},
   "outputs": [],
   "source": [
    "# Initialize lists to add data\n",
    "titles  = []\n",
    "authors = []\n",
    "links =   []\n",
    "dates   = []\n",
    "prices  = []\n",
    "\n",
    "\n",
    "for page in pages:\n",
    "    # Create soup\n",
    "    raw_page = requests.get(page)\n",
    "    soup = BeautifulSoup(raw_page.content, 'html.parser')\n",
    "\n",
    "    # Get relevant html\n",
    "    results = soup.find(class_ = \"results__list\")\n",
    "\n",
    "    # Book Title\n",
    "    for i in results.findAll(class_ = 'sm-teaser__title'):\n",
    "        titles.append(i.string.strip())\n",
    "\n",
    "    # Author\n",
    "    for i in results.findAll(class_=\"sm-teaser__meta--first\"):\n",
    "        atrs = i.findAll(property='name')\n",
    "        \n",
    "        # In case there are multiple authors\n",
    "        if len(atrs) > 1:  \n",
    "            authors.append(', '.join([x.string.strip() for x in atrs]))\n",
    "        # Single authors\n",
    "        else:  \n",
    "            authors.append(i.a.string.strip())\n",
    "\n",
    "    # Link\n",
    "    for i in results.findAll(typeof='Book'):\n",
    "        links.append(i.a.get('href'))\n",
    "\n",
    "    # Publish Date\n",
    "    for i in results.findAll(property='publishDate'):\n",
    "        dates.append(i.get(\"datetime\"))\n",
    "\n",
    "    # Price\n",
    "    for i in results.findAll('span', property='price'):\n",
    "        prices.append(i.text.strip())"
   ]
  },
  {
   "cell_type": "markdown",
   "metadata": {},
   "source": [
    "## Save data as a DataFrame"
   ]
  },
  {
   "cell_type": "code",
   "execution_count": 6,
   "metadata": {},
   "outputs": [],
   "source": [
    "data = {\n",
    "    \"title\":titles,\n",
    "    \"authors\":authors,\n",
    "    \"link\": links,\n",
    "    \"publish_date\":dates,\n",
    "    \"price\":prices\n",
    "}"
   ]
  },
  {
   "cell_type": "code",
   "execution_count": 7,
   "metadata": {},
   "outputs": [
    {
     "data": {
      "text/html": [
       "<div>\n",
       "<style scoped>\n",
       "    .dataframe tbody tr th:only-of-type {\n",
       "        vertical-align: middle;\n",
       "    }\n",
       "\n",
       "    .dataframe tbody tr th {\n",
       "        vertical-align: top;\n",
       "    }\n",
       "\n",
       "    .dataframe thead th {\n",
       "        text-align: right;\n",
       "    }\n",
       "</style>\n",
       "<table border=\"1\" class=\"dataframe\">\n",
       "  <thead>\n",
       "    <tr style=\"text-align: right;\">\n",
       "      <th></th>\n",
       "      <th>title</th>\n",
       "      <th>authors</th>\n",
       "      <th>link</th>\n",
       "      <th>publish_date</th>\n",
       "      <th>price</th>\n",
       "    </tr>\n",
       "  </thead>\n",
       "  <tbody>\n",
       "    <tr>\n",
       "      <th>0</th>\n",
       "      <td>Fertility Technology</td>\n",
       "      <td>Donna J. Drucker</td>\n",
       "      <td>https://mitpress.mit.edu/books/fertility-techn...</td>\n",
       "      <td>2023-02-14</td>\n",
       "      <td>$16.95</td>\n",
       "    </tr>\n",
       "    <tr>\n",
       "      <th>1</th>\n",
       "      <td>Espionage</td>\n",
       "      <td>Kristie Macrakis</td>\n",
       "      <td>https://mitpress.mit.edu/books/espionage</td>\n",
       "      <td>2023-02-14</td>\n",
       "      <td>$16.95</td>\n",
       "    </tr>\n",
       "    <tr>\n",
       "      <th>2</th>\n",
       "      <td>Causal Inference</td>\n",
       "      <td>Paul R. Rosenbaum</td>\n",
       "      <td>https://mitpress.mit.edu/books/causal-inference</td>\n",
       "      <td>2023-02-14</td>\n",
       "      <td>$16.95</td>\n",
       "    </tr>\n",
       "    <tr>\n",
       "      <th>3</th>\n",
       "      <td>Pragmatism</td>\n",
       "      <td>John R. Shook</td>\n",
       "      <td>https://mitpress.mit.edu/books/pragmatism</td>\n",
       "      <td>2023-02-07</td>\n",
       "      <td>$16.95</td>\n",
       "    </tr>\n",
       "    <tr>\n",
       "      <th>4</th>\n",
       "      <td>Happiness</td>\n",
       "      <td>Tim Lomas</td>\n",
       "      <td>https://mitpress.mit.edu/books/happiness-1</td>\n",
       "      <td>2023-01-03</td>\n",
       "      <td>$16.95</td>\n",
       "    </tr>\n",
       "  </tbody>\n",
       "</table>\n",
       "</div>"
      ],
      "text/plain": [
       "                  title            authors  \\\n",
       "0  Fertility Technology   Donna J. Drucker   \n",
       "1             Espionage   Kristie Macrakis   \n",
       "2      Causal Inference  Paul R. Rosenbaum   \n",
       "3            Pragmatism      John R. Shook   \n",
       "4             Happiness          Tim Lomas   \n",
       "\n",
       "                                                link publish_date   price  \n",
       "0  https://mitpress.mit.edu/books/fertility-techn...   2023-02-14  $16.95  \n",
       "1           https://mitpress.mit.edu/books/espionage   2023-02-14  $16.95  \n",
       "2    https://mitpress.mit.edu/books/causal-inference   2023-02-14  $16.95  \n",
       "3          https://mitpress.mit.edu/books/pragmatism   2023-02-07  $16.95  \n",
       "4         https://mitpress.mit.edu/books/happiness-1   2023-01-03  $16.95  "
      ]
     },
     "execution_count": 7,
     "metadata": {},
     "output_type": "execute_result"
    }
   ],
   "source": [
    "df = pd.DataFrame(data=data)\n",
    "df.head()"
   ]
  },
  {
   "cell_type": "markdown",
   "metadata": {},
   "source": [
    "# Save Data\n",
    "Save as a csv and excel file"
   ]
  },
  {
   "cell_type": "code",
   "execution_count": 8,
   "metadata": {},
   "outputs": [],
   "source": [
    "# Path to the folder\n",
    "path = os.path.realpath('saved_data')\n",
    "\n",
    "# CSV file\n",
    "df.to_csv(path+'\\\\data.csv', index=False)\n",
    "\n",
    "# Excel file\n",
    "df.to_excel(path+'\\\\data.xlsx', index=False)"
   ]
  },
  {
   "cell_type": "code",
   "execution_count": null,
   "metadata": {},
   "outputs": [],
   "source": []
  }
 ],
 "metadata": {
  "interpreter": {
   "hash": "e7ba2c2a3e8ffbea87cf1bc2bc8053571429eea774ae9f19e45b45234d58901a"
  },
  "kernelspec": {
   "display_name": "Python 3",
   "language": "python",
   "name": "python3"
  },
  "language_info": {
   "codemirror_mode": {
    "name": "ipython",
    "version": 3
   },
   "file_extension": ".py",
   "mimetype": "text/x-python",
   "name": "python",
   "nbconvert_exporter": "python",
   "pygments_lexer": "ipython3",
   "version": "3.7.0"
  }
 },
 "nbformat": 4,
 "nbformat_minor": 2
}
