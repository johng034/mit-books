{
 "cells": [
  {
   "cell_type": "markdown",
   "metadata": {},
   "source": [
    "# Books Reviews\n",
    "We want to collect data on the reviews for each book such as:\n",
    "- Number of reviews\n",
    "- Number of ratings\n",
    "- Average review (based on a 5-star system)\n",
    "\n",
    "We can get this data from websites like Amazon or Goodreads, however neither of these websites have APIs to allow us to collect this data. We can attempt to scrape this data using BeautifulSoup, but Amazon may flag our script as a bot. \n",
    "\n",
    "For this reason, I will leave this notebook as it is. I would like to come back to this when there is a practical way to collect this information."
   ]
  },
  {
   "cell_type": "code",
   "execution_count": 1,
   "metadata": {},
   "outputs": [],
   "source": [
    "import requests\n",
    "from bs4 import BeautifulSoup"
   ]
  },
  {
   "cell_type": "code",
   "execution_count": null,
   "metadata": {},
   "outputs": [],
   "source": []
  }
 ],
 "metadata": {
  "kernelspec": {
   "display_name": "Python 3",
   "language": "python",
   "name": "python3"
  },
  "language_info": {
   "codemirror_mode": {
    "name": "ipython",
    "version": 3
   },
   "file_extension": ".py",
   "mimetype": "text/x-python",
   "name": "python",
   "nbconvert_exporter": "python",
   "pygments_lexer": "ipython3",
   "version": "3.7.0"
  }
 },
 "nbformat": 4,
 "nbformat_minor": 2
}
