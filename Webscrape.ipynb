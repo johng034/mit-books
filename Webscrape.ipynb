{
 "cells": [
  {
   "cell_type": "code",
   "execution_count": 4,
   "metadata": {},
   "outputs": [],
   "source": [
    "import pandas as pd\n",
    "from bs4 import BeautifulSoup\n",
    "import requests\n",
    "import numpy as np\n",
    "import os"
   ]
  },
  {
   "cell_type": "markdown",
   "metadata": {},
   "source": [
    "# Pages\n",
    "Since there are multiple pages, we will get the links for each one"
   ]
  },
  {
   "cell_type": "code",
   "execution_count": 5,
   "metadata": {},
   "outputs": [],
   "source": [
    "headers = ({'User-Agent':\n",
    "           'Mozilla/5.0 (X11; Linux x86_64) AppleWebKit/537.36 (KHTML, like Gecko)Chrome/44.0.2403.157 Safari/537.36',\n",
    "                           'Accept-Language': 'en-US, en;q=0.5'})"
   ]
  },
  {
   "cell_type": "code",
   "execution_count": 6,
   "metadata": {},
   "outputs": [],
   "source": [
    "url = 'https://mitpress.mit.edu/books/series/mit-press-essential-knowledge-series'\n",
    "\n",
    "page = requests.get(url, headers=headers)\n",
    "soup = BeautifulSoup(page.content, 'html.parser')\n",
    "\n",
    "page_num = []\n",
    "pages = []\n",
    "\n",
    "for page in soup.findAll(class_ = 'pager__item'):\n",
    "    page_num.append(int(page.a.get('href').split('=')[1]))\n",
    "\n",
    "\n",
    "num_of_pages = max(page_num)\n",
    "\n",
    "for page in range(num_of_pages+1):\n",
    "    pages.append(url + '?page=' + str(page))"
   ]
  },
  {
   "cell_type": "code",
   "execution_count": 7,
   "metadata": {},
   "outputs": [
    {
     "data": {
      "text/plain": [
       "['https://mitpress.mit.edu/books/series/mit-press-essential-knowledge-series?page=0',\n",
       " 'https://mitpress.mit.edu/books/series/mit-press-essential-knowledge-series?page=1',\n",
       " 'https://mitpress.mit.edu/books/series/mit-press-essential-knowledge-series?page=2']"
      ]
     },
     "execution_count": 7,
     "metadata": {},
     "output_type": "execute_result"
    }
   ],
   "source": [
    "pages"
   ]
  },
  {
   "cell_type": "markdown",
   "metadata": {},
   "source": [
    "## Information\n",
    "- Title\n",
    "- Author\n",
    "- Link to book\n",
    "- Publish Date\n",
    "- Price"
   ]
  },
  {
   "cell_type": "code",
   "execution_count": 4,
   "metadata": {},
   "outputs": [],
   "source": [
    "# Initialize lists to add data\n",
    "titles  = []\n",
    "authors = []\n",
    "links =   []\n",
    "dates   = []\n",
    "prices  = []\n",
    "\n",
    "\n",
    "for page in pages:\n",
    "    # Create soup\n",
    "    raw_page = requests.get(page)\n",
    "    soup = BeautifulSoup(raw_page.content, 'html.parser')\n",
    "\n",
    "    # Get relevant html\n",
    "    results = soup.find(class_ = \"results__list\")\n",
    "\n",
    "    # Book Title\n",
    "    for i in results.findAll(class_ = 'sm-teaser__title'):\n",
    "        titles.append(i.string.strip())\n",
    "\n",
    "    # Author\n",
    "    for i in results.findAll(class_=\"sm-teaser__meta--first\"):\n",
    "        atrs = i.findAll(property='name')\n",
    "        if len(atrs) > 1:  # In case there are multiple authors\n",
    "            authors.append(', '.join([x.string.strip() for x in atrs]))\n",
    "        else:  # Single authors\n",
    "            authors.append(i.a.string.strip())\n",
    "\n",
    "    # Link\n",
    "    for i in results.findAll(typeof='Book'):\n",
    "        links.append(i.a.get('href'))\n",
    "\n",
    "    # Publish Date\n",
    "    for i in results.findAll(property='publishDate'):\n",
    "        dates.append(i.get(\"datetime\"))\n",
    "\n",
    "    # Price\n",
    "    for i in results.findAll('span', property='price'):\n",
    "        prices.append(i.text.strip())"
   ]
  },
  {
   "cell_type": "markdown",
   "metadata": {},
   "source": [
    "## Save data as a DataFrame"
   ]
  },
  {
   "cell_type": "code",
   "execution_count": 5,
   "metadata": {},
   "outputs": [],
   "source": [
    "data = {\n",
    "    \"title\":titles,\n",
    "    \"authors\":authors,\n",
    "    \"link\": links,\n",
    "    \"publish_date\":dates,\n",
    "    \"price\":prices\n",
    "}"
   ]
  },
  {
   "cell_type": "code",
   "execution_count": 6,
   "metadata": {},
   "outputs": [
    {
     "data": {
      "text/html": [
       "<div>\n",
       "<style scoped>\n",
       "    .dataframe tbody tr th:only-of-type {\n",
       "        vertical-align: middle;\n",
       "    }\n",
       "\n",
       "    .dataframe tbody tr th {\n",
       "        vertical-align: top;\n",
       "    }\n",
       "\n",
       "    .dataframe thead th {\n",
       "        text-align: right;\n",
       "    }\n",
       "</style>\n",
       "<table border=\"1\" class=\"dataframe\">\n",
       "  <thead>\n",
       "    <tr style=\"text-align: right;\">\n",
       "      <th></th>\n",
       "      <th>title</th>\n",
       "      <th>authors</th>\n",
       "      <th>link</th>\n",
       "      <th>publish_date</th>\n",
       "      <th>price</th>\n",
       "    </tr>\n",
       "  </thead>\n",
       "  <tbody>\n",
       "    <tr>\n",
       "      <th>0</th>\n",
       "      <td>Placebos</td>\n",
       "      <td>Kathryn T Hall</td>\n",
       "      <td>https://mitpress.mit.edu/books/placebos</td>\n",
       "      <td>2022-09-20</td>\n",
       "      <td>$16.95</td>\n",
       "    </tr>\n",
       "    <tr>\n",
       "      <th>1</th>\n",
       "      <td>Happiness</td>\n",
       "      <td>Tim Lomas</td>\n",
       "      <td>https://mitpress.mit.edu/books/happiness-1</td>\n",
       "      <td>2022-09-20</td>\n",
       "      <td>$16.95</td>\n",
       "    </tr>\n",
       "    <tr>\n",
       "      <th>2</th>\n",
       "      <td>Hunting</td>\n",
       "      <td>Jan Dizard, Mary Zeiss Stange</td>\n",
       "      <td>https://mitpress.mit.edu/books/hunting</td>\n",
       "      <td>2022-09-20</td>\n",
       "      <td>$16.95</td>\n",
       "    </tr>\n",
       "    <tr>\n",
       "      <th>3</th>\n",
       "      <td>Robot Ethics</td>\n",
       "      <td>Mark Coeckelbergh</td>\n",
       "      <td>https://mitpress.mit.edu/books/robot-ethics-1</td>\n",
       "      <td>2022-09-06</td>\n",
       "      <td>$16.95</td>\n",
       "    </tr>\n",
       "    <tr>\n",
       "      <th>4</th>\n",
       "      <td>Analog</td>\n",
       "      <td>Robert Hassan</td>\n",
       "      <td>https://mitpress.mit.edu/books/analog</td>\n",
       "      <td>2022-09-06</td>\n",
       "      <td>$16.95</td>\n",
       "    </tr>\n",
       "  </tbody>\n",
       "</table>\n",
       "</div>"
      ],
      "text/plain": [
       "          title                        authors  \\\n",
       "0      Placebos                 Kathryn T Hall   \n",
       "1     Happiness                      Tim Lomas   \n",
       "2       Hunting  Jan Dizard, Mary Zeiss Stange   \n",
       "3  Robot Ethics              Mark Coeckelbergh   \n",
       "4        Analog                  Robert Hassan   \n",
       "\n",
       "                                            link publish_date   price  \n",
       "0        https://mitpress.mit.edu/books/placebos   2022-09-20  $16.95  \n",
       "1     https://mitpress.mit.edu/books/happiness-1   2022-09-20  $16.95  \n",
       "2         https://mitpress.mit.edu/books/hunting   2022-09-20  $16.95  \n",
       "3  https://mitpress.mit.edu/books/robot-ethics-1   2022-09-06  $16.95  \n",
       "4          https://mitpress.mit.edu/books/analog   2022-09-06  $16.95  "
      ]
     },
     "execution_count": 6,
     "metadata": {},
     "output_type": "execute_result"
    }
   ],
   "source": [
    "df = pd.DataFrame(data=data)\n",
    "df.head()"
   ]
  },
  {
   "cell_type": "markdown",
   "metadata": {},
   "source": [
    "# Save Data\n",
    "Save as a csv and excel file"
   ]
  },
  {
   "cell_type": "code",
   "execution_count": 7,
   "metadata": {},
   "outputs": [],
   "source": [
    "# Path to the folder\n",
    "path = os.path.realpath('saved_data')\n",
    "\n",
    "# CSV file\n",
    "df.to_csv(path+'\\\\data.csv', index=False)\n",
    "\n",
    "# Excel file\n",
    "df.to_excel(path+'\\\\data.xlsx', index=False)"
   ]
  },
  {
   "cell_type": "code",
   "execution_count": null,
   "metadata": {},
   "outputs": [],
   "source": []
  }
 ],
 "metadata": {
  "interpreter": {
   "hash": "e7ba2c2a3e8ffbea87cf1bc2bc8053571429eea774ae9f19e45b45234d58901a"
  },
  "kernelspec": {
   "display_name": "Python 3",
   "language": "python",
   "name": "python3"
  },
  "language_info": {
   "codemirror_mode": {
    "name": "ipython",
    "version": 3
   },
   "file_extension": ".py",
   "mimetype": "text/x-python",
   "name": "python",
   "nbconvert_exporter": "python",
   "pygments_lexer": "ipython3",
   "version": "3.7.0"
  }
 },
 "nbformat": 4,
 "nbformat_minor": 2
}
